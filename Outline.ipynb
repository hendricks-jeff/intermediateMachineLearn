{
 "cells": [
  {
   "cell_type": "markdown",
   "metadata": {
    "duration": "20 minutes"
   },
   "source": [
    "# Intermediate Machine Learning with scikit-learn"
   ]
  },
  {
   "cell_type": "markdown",
   "metadata": {
    "duration": "20 minutes"
   },
   "source": [
    "## Resources\n",
    "\n",
    "This training material is available under a CC BY-NC-SA 4.0 license.  You can find it at:\n",
    "\n",
    "> <font size=\"+2\">https://github.com/DavidMertz/ML-Live-Intermediate</font>\n",
    "\n",
    "Before attending this course, please configure the environments you will need.  Within the repository, find the file `requirements.txt` to install software using `pip`, or the file `environment.yml` to install software using `conda`.\n",
    "\n",
    "Please contact me and my training company, [KDM Training](http://kdm.training) for hands-on, instructor-led, onsite or remote, training.  Our email is info@kdm.training."
   ]
  },
  {
   "cell_type": "markdown",
   "metadata": {},
   "source": [
    "## What Is Machine Learning?\n",
    "\n",
    "\n",
    "The session *Beginner Machine Learning with `scikit-learn`* addresses the topics outlines here in more detail.  For this course, we will only cover a quick overview of these topics. That course also covers the main topics in *supervised* machine learning: classification, regression, and hyperparameters.\n",
    "\n",
    "* Overview of techniques used in Machine Learning\n",
    "* Classification vs. Regression vs. Clustering\n",
    "* Dimensionality Reduction\n",
    "* Feature Engineering\n",
    "* Feature Selection\n",
    "* Categorical vs. Ordinal vs. Continuous variables\n",
    "* One-hot encoding\n",
    "* Hyperparameters\n",
    "* Grid Search\n",
    "* Metrics\n",
    "\n",
    "<div><a href=\"WhatIsML.ipynb\"><img src=\"img/open-notebook.png\" align=\"left\"/></a></div>"
   ]
  },
  {
   "cell_type": "markdown",
   "metadata": {},
   "source": [
    "## Clustering\n",
    "\n",
    "* Overview of (some) clustering algorithms\n",
    "* Kmeans clustering\n",
    "* Agglomerative clustering\n",
    "* Density based clustering: DBSan and HDBScan\n",
    "* n_clusters, labels, and predictions\n",
    "* Visualizing results\n",
    "\n",
    "<div><a href=\"Clustering.ipynb\"><img src=\"img/open-notebook.png\" align=\"left\"/></a></div>"
   ]
  },
  {
   "cell_type": "markdown",
   "metadata": {},
   "source": [
    "## Feature Engineering and Feature Selection\n",
    "* Principal Component Analysis (PCA)\n",
    "* Non-Negative Matrix Factorization (NMF)\n",
    "* Latent Dirichlet Allocation (LDA)\n",
    "* Independent component analysis (ICA)\n",
    "* SelectKBest\n",
    "* Dimensionality expansion\n",
    "* Polynomial Features\n",
    "* One-Hot Encoding\n",
    "* Scaling with StandardScaler, RobustScaler, MinMaxScaler, Normalizer, and others\n",
    "* Binning values with quantiles or binarize\n",
    "\n",
    "<div><a href=\"Features.ipynb\"><img src=\"img/open-notebook.png\" align=\"left\"/></a></div>"
   ]
  },
  {
   "cell_type": "markdown",
   "metadata": {},
   "source": [
    "## Pipelines\n",
    "\n",
    "* Feature Selection and Engineering\n",
    "* Grid search\n",
    "* Model\n",
    "\n",
    "<div><a href=\"Pipelines.ipynb\"><img src=\"img/open-notebook.png\" align=\"left\"/></a></div>"
   ]
  },
  {
   "cell_type": "markdown",
   "metadata": {},
   "source": [
    "## Robust Train/Test Splits \n",
    "\n",
    "* cross_val_score\n",
    "* ShuffleSplit\n",
    "* KFold, RepeatedKFold, LeaveOneOut, LeavePOut, StratifiedKFold\n",
    "\n",
    "<div><a href=\"TrainTest.ipynb\"><img src=\"img/open-notebook.png\" align=\"left\"/></a></div>"
   ]
  }
 ],
 "metadata": {
  "kernelspec": {
   "display_name": "Python 3",
   "language": "python",
   "name": "python3"
  },
  "language_info": {
   "codemirror_mode": {
    "name": "ipython",
    "version": 3
   },
   "file_extension": ".py",
   "mimetype": "text/x-python",
   "name": "python",
   "nbconvert_exporter": "python",
   "pygments_lexer": "ipython3",
   "version": "3.7.0"
  },
  "varInspector": {
   "cols": {
    "lenName": 16,
    "lenType": 16,
    "lenVar": 40
   },
   "kernels_config": {
    "python": {
     "delete_cmd_postfix": "",
     "delete_cmd_prefix": "del ",
     "library": "var_list.py",
     "varRefreshCmd": "print(var_dic_list())"
    },
    "r": {
     "delete_cmd_postfix": ") ",
     "delete_cmd_prefix": "rm(",
     "library": "var_list.r",
     "varRefreshCmd": "cat(var_dic_list()) "
    }
   },
   "types_to_exclude": [
    "module",
    "function",
    "builtin_function_or_method",
    "instance",
    "_Feature"
   ],
   "window_display": false
  }
 },
 "nbformat": 4,
 "nbformat_minor": 2
}
